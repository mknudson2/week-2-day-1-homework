{
 "cells": [
  {
   "cell_type": "markdown",
   "metadata": {},
   "source": [
    "# Week 2 - Monday Lesson (variable assignment, loops, lists)"
   ]
  },
  {
   "cell_type": "markdown",
   "metadata": {},
   "source": [
    "## Tasks Today:\n",
    "\n",
    "1) Int & Float assignments <br>\n",
    " &nbsp;&nbsp;&nbsp;&nbsp; a) Assigning int <br>\n",
    " &nbsp;&nbsp;&nbsp;&nbsp; b) Assigning float <br>\n",
    " &nbsp;&nbsp;&nbsp;&nbsp; c) Performing Calculations on ints and floats <br>\n",
    " &nbsp;&nbsp;&nbsp;&nbsp;&nbsp;&nbsp;&nbsp;&nbsp; - Addition <br>\n",
    " &nbsp;&nbsp;&nbsp;&nbsp;&nbsp;&nbsp;&nbsp;&nbsp; - Subtraction <br>\n",
    " &nbsp;&nbsp;&nbsp;&nbsp;&nbsp;&nbsp;&nbsp;&nbsp; - Multiplication <br>\n",
    " &nbsp;&nbsp;&nbsp;&nbsp;&nbsp;&nbsp;&nbsp;&nbsp; - Division <br>\n",
    " &nbsp;&nbsp;&nbsp;&nbsp;&nbsp;&nbsp;&nbsp;&nbsp; - Floor Division <br>\n",
    " &nbsp;&nbsp;&nbsp;&nbsp;&nbsp;&nbsp;&nbsp;&nbsp; - Modulo <br>\n",
    " &nbsp;&nbsp;&nbsp;&nbsp;&nbsp;&nbsp;&nbsp;&nbsp; - Exponential <br>\n",
    "2) String Input-Output <br>\n",
    " &nbsp;&nbsp;&nbsp;&nbsp; a) String Assignment <br>\n",
    " &nbsp;&nbsp;&nbsp;&nbsp; b) print() <br>\n",
    " &nbsp;&nbsp;&nbsp;&nbsp; c) String Concatenation <br>\n",
    " &nbsp;&nbsp;&nbsp;&nbsp; d) Type Conversion <br>\n",
    " &nbsp;&nbsp;&nbsp;&nbsp; e) input() <br>\n",
    " &nbsp;&nbsp;&nbsp;&nbsp; f) format() <br>\n",
    " &nbsp;&nbsp;&nbsp;&nbsp; g) Old Way (python 2) <br>\n",
    "3) <b>In-Class Exercise #1</b> <br>\n",
    "4) If Statements <br>\n",
    " &nbsp;&nbsp;&nbsp;&nbsp; a) 'is' keyword <br>\n",
    " &nbsp;&nbsp;&nbsp;&nbsp; b) 'in' keyword <br>\n",
    " &nbsp;&nbsp;&nbsp;&nbsp; c) 'not in' keyword <br>\n",
    "5) <b>In-Class Exercise #2</b> <br>\n",
    "6) Elif Statements <br>\n",
    "7) Else Statements <br>\n",
    "8) <b>In-Class Exercise #3</b> <br>\n",
    "9) For Loops <br>\n",
    " &nbsp;&nbsp;&nbsp;&nbsp; a) Using 'in' keyword <br>\n",
    " &nbsp;&nbsp;&nbsp;&nbsp; b) Continue Statement <br>\n",
    " &nbsp;&nbsp;&nbsp;&nbsp; c) Break Statement <br>\n",
    " &nbsp;&nbsp;&nbsp;&nbsp; d) Pass Statement <br>\n",
    " &nbsp;&nbsp;&nbsp;&nbsp; e) Double For Loops <br>\n",
    "10) While Loops <br>\n",
    " &nbsp;&nbsp;&nbsp;&nbsp; a) Looping 'While True' <br>\n",
    " &nbsp;&nbsp;&nbsp;&nbsp; b) While and For Loops Used Together <br>\n",
    "11) Built-In Functions <br>\n",
    " &nbsp;&nbsp;&nbsp;&nbsp; a) range() <br>\n",
    " &nbsp;&nbsp;&nbsp;&nbsp; b) len() <br>\n",
    " &nbsp;&nbsp;&nbsp;&nbsp; c) help() <br>\n",
    " &nbsp;&nbsp;&nbsp;&nbsp; d) isinstance() <br>\n",
    " &nbsp;&nbsp;&nbsp;&nbsp; e) abs() <br>\n",
    "12) Try and Except <br>\n",
    "13) Lists <br>\n",
    " &nbsp;&nbsp;&nbsp;&nbsp; a) Declaring Lists <br>\n",
    " &nbsp;&nbsp;&nbsp;&nbsp; b) Indexing a List <br>\n",
    " &nbsp;&nbsp;&nbsp;&nbsp; c) .append() <br>\n",
    " &nbsp;&nbsp;&nbsp;&nbsp; d) .insert() <br>\n",
    " &nbsp;&nbsp;&nbsp;&nbsp; e) .pop() <br>\n",
    " &nbsp;&nbsp;&nbsp;&nbsp; f) .remove() <br>\n",
    " &nbsp;&nbsp;&nbsp;&nbsp; g) del() <br>\n",
    " &nbsp;&nbsp;&nbsp;&nbsp; h) Concatenating Two Lists <br>\n",
    " &nbsp;&nbsp;&nbsp;&nbsp; i) Lists Within Lists <br>\n",
    " &nbsp;&nbsp;&nbsp;&nbsp; j) Looping Through Lists <br>"
   ]
  },
  {
   "cell_type": "markdown",
   "metadata": {},
   "source": [
    "### Int & Float Assignments"
   ]
  },
  {
   "cell_type": "markdown",
   "metadata": {},
   "source": [
    "##### Assigning int"
   ]
  },
  {
   "cell_type": "code",
   "execution_count": null,
   "metadata": {},
   "outputs": [],
   "source": [
    "#<variable> = <value> \n",
    "\n",
    "my_int = 10\n",
    "print(my_int)\n",
    "type(my_int)"
   ]
  },
  {
   "cell_type": "markdown",
   "metadata": {},
   "source": [
    "##### Assinging float"
   ]
  },
  {
   "cell_type": "code",
   "execution_count": null,
   "metadata": {},
   "outputs": [],
   "source": [
    "my_float = 4.1\n",
    "\n",
    "print(my_float)\n",
    "print(type(my_float))"
   ]
  },
  {
   "cell_type": "markdown",
   "metadata": {},
   "source": [
    "#### Performing Calculations on ints and floats"
   ]
  },
  {
   "cell_type": "markdown",
   "metadata": {},
   "source": [
    "##### Addition"
   ]
  },
  {
   "cell_type": "code",
   "execution_count": null,
   "metadata": {},
   "outputs": [],
   "source": [
    "5+5\n"
   ]
  },
  {
   "cell_type": "markdown",
   "metadata": {},
   "source": [
    "##### Subtraction"
   ]
  },
  {
   "cell_type": "code",
   "execution_count": null,
   "metadata": {},
   "outputs": [],
   "source": [
    "10-5\n",
    "\n",
    "my_int - 2\n",
    "\n",
    "print(my_int)"
   ]
  },
  {
   "cell_type": "code",
   "execution_count": null,
   "metadata": {},
   "outputs": [],
   "source": [
    "# update value with calculation\n",
    "\n",
    "#long hand\n",
    "my_int = my_int - 2\n",
    "print(my_int)\n",
    "\n",
    "#short hand\n",
    "my_int -= 2\n",
    "print(my_int)"
   ]
  },
  {
   "cell_type": "markdown",
   "metadata": {},
   "source": [
    "##### Multiplication"
   ]
  },
  {
   "cell_type": "code",
   "execution_count": null,
   "metadata": {},
   "outputs": [],
   "source": [
    "10 * 10\n",
    "\n",
    "new_int = 25\n",
    "\n",
    "new_int * 2\n",
    "\n",
    "print(new_int)"
   ]
  },
  {
   "cell_type": "code",
   "execution_count": null,
   "metadata": {},
   "outputs": [],
   "source": [
    "#reassign\n",
    "\n",
    "#long hand\n",
    "new_int = new_int * 2\n",
    "print(new_int)\n",
    "\n",
    "#short hand\n",
    "new_int *= 5\n",
    "print(new_int)"
   ]
  },
  {
   "cell_type": "markdown",
   "metadata": {},
   "source": [
    "##### Division"
   ]
  },
  {
   "cell_type": "code",
   "execution_count": null,
   "metadata": {},
   "outputs": [],
   "source": [
    "# / always returns float \n",
    "print(10 / 2)\n",
    "\n",
    "# division and convert back to int\n",
    "print(int(10/2))\n",
    "\n",
    "type(new_int / 25)\n",
    "\n",
    "print(int(new_int / 25))"
   ]
  },
  {
   "cell_type": "code",
   "execution_count": null,
   "metadata": {},
   "outputs": [],
   "source": [
    "new_int = int(new_int / 25)\n",
    "print(new_int)\n",
    "\n",
    "new_int /= 2\n",
    "print(new_int)"
   ]
  },
  {
   "cell_type": "markdown",
   "metadata": {},
   "source": [
    "##### Floor Division"
   ]
  },
  {
   "cell_type": "code",
   "execution_count": null,
   "metadata": {},
   "outputs": [],
   "source": [
    "#rounds down, chops off any remainder\n",
    "\n",
    "print(10//2)\n",
    "print(10/2)\n",
    "\n",
    "print(11/2)\n",
    "print(11//2)\n",
    "\n",
    "ten = 10\n",
    "\n",
    "print(ten//5)"
   ]
  },
  {
   "cell_type": "markdown",
   "metadata": {},
   "source": [
    "##### Modulo"
   ]
  },
  {
   "cell_type": "code",
   "execution_count": null,
   "metadata": {},
   "outputs": [],
   "source": [
    "#will only give you the remainder. Good for figuring even and odds (evens return 0, odds 1)\n",
    "\n",
    "print(10 % 2)\n",
    "print(11 % 2) #2 goes into 11 twice with 1 leftover\n",
    "\n",
    "print(124 % 25)#25 goes into 124 5 times with 24 leftover"
   ]
  },
  {
   "cell_type": "markdown",
   "metadata": {},
   "source": [
    "##### Exponential"
   ]
  },
  {
   "cell_type": "code",
   "execution_count": null,
   "metadata": {},
   "outputs": [],
   "source": [
    "# **\n",
    "\n",
    "print(2**2)\n",
    "print(2**3)\n",
    "print(10**2)\n",
    "print(10**3)"
   ]
  },
  {
   "cell_type": "code",
   "execution_count": null,
   "metadata": {},
   "outputs": [],
   "source": [
    "ten = 10\n",
    "\n",
    "ten **=2\n",
    "\n",
    "print(ten)"
   ]
  },
  {
   "cell_type": "markdown",
   "metadata": {},
   "source": [
    "### String Input-Output"
   ]
  },
  {
   "cell_type": "markdown",
   "metadata": {},
   "source": [
    "##### String Assignment"
   ]
  },
  {
   "cell_type": "code",
   "execution_count": null,
   "metadata": {},
   "outputs": [],
   "source": [
    "#strings are wrapped in quotes (either double or single, so long as they match)\n",
    "#strings are a collection of characters (digits or characters, so long as they are between quotes)\n",
    "\n",
    "print(type('sean100'))\n",
    "\n",
    "instructor = 'sean'\n",
    "print(instructor)\n",
    "print(type(instructor))"
   ]
  },
  {
   "cell_type": "markdown",
   "metadata": {},
   "source": [
    "##### print() <br>\n",
    "<p>Don't forget about end=' '</p>"
   ]
  },
  {
   "cell_type": "code",
   "execution_count": null,
   "metadata": {},
   "outputs": [],
   "source": [
    "#there is a default end value in print statements for creating a new line (default new line character). \n",
    "#In the first example, this default is overridden since we have assigned the end value to 'currie'\n",
    "\n",
    "print(instructor, end=' currie')\n",
    "print('dylan')\n",
    "\n",
    "print(instructor)\n",
    "print('dylan')\n",
    "\n",
    "print(instructor, end='currie')\n",
    "print(instructor)\n",
    "print('dylan')\n",
    "print('matrix')"
   ]
  },
  {
   "cell_type": "markdown",
   "metadata": {},
   "source": [
    "##### String Concatenation"
   ]
  },
  {
   "cell_type": "code",
   "execution_count": null,
   "metadata": {},
   "outputs": [],
   "source": [
    "#concatenate = to add together\n",
    "#don't forget to add spaces if wanted! They must be explicitly stated\n",
    "\n",
    "first_name = 'dylan'\n",
    "\n",
    "print(first_name + 'smith')\n",
    "\n",
    "first_name = 'dylan'\n",
    "\n",
    "print(first_name + ' smith')\n",
    "\n",
    "print(first_name + ' ' + 'smith')\n",
    "\n",
    "\n",
    "last_name = 'smith'\n",
    "print(first_name + ' ' + last_name)\n",
    "\n",
    "\n",
    "full_name = first_name + ' ' + last_name\n",
    "print(full_name)\n",
    "\n",
    "print(full_name + ' jr.')"
   ]
  },
  {
   "cell_type": "markdown",
   "metadata": {},
   "source": [
    "##### Type Conversion"
   ]
  },
  {
   "cell_type": "code",
   "execution_count": null,
   "metadata": {},
   "outputs": [],
   "source": [
    "print(type(12))\n",
    "\n",
    "print(type('12'))\n",
    "\n",
    "str_digit = '23'\n",
    "\n",
    "print(int(str_digit) + 100)\n",
    "#you must wrap a string in the int function in order for it to work, even if the string is filled with digits.\n",
    "#e.g., print(str_digit + 100) yields and error since python thinks that '23' is distinct from 100 since '23' is\n",
    "#between quotes.\n",
    "\n",
    "\n",
    "#another bug: print(int('23a'))\n",
    "\n",
    "\n",
    "my_age = 33\n",
    "happy_birthday_string = full_name + ' happy birthday! You are now ' + str(my_age) +'!'\n",
    "\n",
    "print(happy_birthday_string)"
   ]
  },
  {
   "cell_type": "code",
   "execution_count": null,
   "metadata": {},
   "outputs": [],
   "source": [
    "print(type(my_age))\n",
    "\n",
    "print(str(my_age))\n",
    "\n",
    "#in order to update the integer value to a string (fixing it from being out of place), you need to assign it a new variable\n",
    "my_age = str(my_age)\n",
    "\n",
    "print(type(my_age))"
   ]
  },
  {
   "cell_type": "markdown",
   "metadata": {},
   "source": [
    "##### input()"
   ]
  },
  {
   "cell_type": "code",
   "execution_count": null,
   "metadata": {},
   "outputs": [],
   "source": [
    "input('What is your age? ')\n",
    "\n",
    "#although we input an integer, it is still returned a string. (i.e., '33' and not 33.)"
   ]
  },
  {
   "cell_type": "code",
   "execution_count": null,
   "metadata": {},
   "outputs": [],
   "source": [
    "user_age = input('What is your age? ')\n"
   ]
  },
  {
   "cell_type": "code",
   "execution_count": null,
   "metadata": {},
   "outputs": [],
   "source": [
    "print(user_age)\n",
    "print(type(user_age))"
   ]
  },
  {
   "cell_type": "markdown",
   "metadata": {},
   "source": [
    "##### format()"
   ]
  },
  {
   "cell_type": "code",
   "execution_count": null,
   "metadata": {},
   "outputs": [],
   "source": [
    "#this is a string method, not a fuction.\n",
    "#method syntax is always the same. Functions are dot notation. All functions belong to a data type class.\n",
    "#the {} are placeholders that are filled in with what is put within format () in the order they are put in.\n",
    "\n",
    "result_string = '{}, you are {}. My, you are beautiful!'.format(instructor, user_age)\n",
    "print(result_string)"
   ]
  },
  {
   "cell_type": "markdown",
   "metadata": {},
   "source": [
    "##### Old Way (python 2)"
   ]
  },
  {
   "cell_type": "code",
   "execution_count": null,
   "metadata": {},
   "outputs": [],
   "source": [
    "result_string_python2 = '%s, you are %d. My, you are beautiful!' %(instructor, int(my_age))\n",
    "print(result_string_python2)"
   ]
  },
  {
   "cell_type": "code",
   "execution_count": null,
   "metadata": {},
   "outputs": [],
   "source": []
  },
  {
   "cell_type": "markdown",
   "metadata": {},
   "source": [
    "# In-Class Exercise 1 <br>\n",
    "<p>Create a format statement that asks for color, year, make, model and prints out the results</p>"
   ]
  },
  {
   "cell_type": "code",
   "execution_count": null,
   "metadata": {},
   "outputs": [],
   "source": []
  },
  {
   "cell_type": "markdown",
   "metadata": {},
   "source": [
    "### If Statements"
   ]
  },
  {
   "cell_type": "code",
   "execution_count": null,
   "metadata": {},
   "outputs": [],
   "source": [
    "# Available operators: Greater(>), Less(<),Equal(==)\n",
    "# Greater or Equal(>=), Less or Equal (<=)\n",
    "\n",
    "# Truth Tree:\n",
    "# T && F = F\n",
    "# T && T = T\n",
    "# T || F = T\n",
    "# F || T = T\n",
    "# F || F = F"
   ]
  },
  {
   "cell_type": "code",
   "execution_count": null,
   "metadata": {},
   "outputs": [],
   "source": [
    "#Conditional\n",
    "#if <condition that returns T or F (boolean statement)>:\n",
    "    #<action to run if T>\n",
    "    \n",
    "if True:\n",
    "    print('true action')\n",
    "    \n",
    "if False:\n",
    "    print('false action')\n",
    "    \n",
    "if 10 > 5:\n",
    "    print('ten is greater than five')\n",
    "    \n",
    "if 10 < 5:\n",
    "    print('ten is less than 5')"
   ]
  },
  {
   "cell_type": "code",
   "execution_count": null,
   "metadata": {},
   "outputs": [],
   "source": [
    "#combining conditions\n",
    "#if <condition1> and <condition2>:\n",
    "    #<action to run if both T>\n",
    "    \n",
    "\n",
    "#if <condition1> or <condition2> \n",
    "    #<action to run if any are true>\n",
    "    \n",
    "\n",
    "if True and True:\n",
    "    print('both true')\n",
    "    \n",
    "if False and True:\n",
    "    print('both true2')\n",
    "    \n",
    "if False or True:\n",
    "    print('at least one is true')\n",
    "\n",
    "if True or False:\n",
    "    print('at least one is true')\n",
    "    \n",
    "\n",
    "#bug\n",
    "#and separates the two conditions (c1 = 10 > 8; c2 = 6). In these cases, think of 'and' as an additional 'if' \n",
    "if 10 > 8 and 0:\n",
    "    print('ten is greater than both')\n",
    "    \n",
    "#fixed\n",
    "if 10 > 8 and 10 > 6:\n",
    "    print('ten is greater than both2')\n",
    "    \n",
    "if 24 > 25 or 0 > 1:\n",
    "    print('neither true or both false')"
   ]
  },
  {
   "cell_type": "code",
   "execution_count": null,
   "metadata": {},
   "outputs": [],
   "source": [
    "if 6 < 10 > 8:\n",
    "    print('neat shortcut')\n",
    "    \n",
    "if 24 > 25 or 0 > 1:\n",
    "    print('neither true or both false')"
   ]
  },
  {
   "cell_type": "markdown",
   "metadata": {},
   "source": [
    "##### 'is' keyword"
   ]
  },
  {
   "cell_type": "code",
   "execution_count": null,
   "metadata": {
    "scrolled": true
   },
   "outputs": [],
   "source": [
    "##### 'is' keyword\n",
    "#is points to the same location/place in memory (i.e., dict1 and dict3 points to the exact same location in memory)\n",
    "\n",
    "# print(55==55)\n",
    "\n",
    "#incorrect use of is\n",
    "# print(55 is 55)\n",
    "# another_num = 55\n",
    "# print(another_num == 55)\n",
    "# print(another_num is 55)\n",
    "\n",
    "dict1= {'a':1}\n",
    "dict2={'a':1}\n",
    "\n",
    "print(dict1==dict2)\n",
    "print(dict1 is dict2)\n",
    "\n",
    "dict3 = dict1\n",
    "print(dict3)\n",
    "\n",
    "print (dict3 == dict1)\n",
    "\n",
    "print(dict3 is dict1)\n",
    "\n",
    "dict3['a']+=1\n",
    "\n",
    "print(dict1)"
   ]
  },
  {
   "cell_type": "markdown",
   "metadata": {},
   "source": [
    "##### 'in' keyword"
   ]
  },
  {
   "cell_type": "code",
   "execution_count": null,
   "metadata": {},
   "outputs": [],
   "source": [
    "print('a' in 'abc')\n",
    "print('d' in 'abc')\n",
    "\n",
    "char_name = 'the hulk'\n",
    "\n",
    "if 'the' in char_name:\n",
    "    print('the in name')\n",
    "    \n",
    "#it is case sensitive!\n",
    "if 'H' in char_name:\n",
    "    print('H in name')\n",
    "\n",
    "if 'h' in char_name:\n",
    "    print('h in name')\n",
    "\n",
    "if 'H'.lower() in char_name.lower():\n",
    "    print('H in name')"
   ]
  },
  {
   "cell_type": "markdown",
   "metadata": {},
   "source": [
    "##### 'not in' keyword'"
   ]
  },
  {
   "cell_type": "code",
   "execution_count": null,
   "metadata": {},
   "outputs": [],
   "source": [
    "print('a' not in 'abc')\n",
    "print('d' not in 'abc')\n",
    "\n",
    "if 'z' not in 'Zelda': #returns true so we do see our action\n",
    "    print('case sensitive')\n",
    "    \n",
    "if 'z' not in 'Zelda'.lower(): #returns false so we do not see our action\n",
    "    print('case sensitive')"
   ]
  },
  {
   "cell_type": "markdown",
   "metadata": {},
   "source": [
    "# In-Class Exercise 2 <br>\n",
    "<p>Ask user for input, check to see if the letter 'p' is in the input</p>"
   ]
  },
  {
   "cell_type": "code",
   "execution_count": 5,
   "metadata": {},
   "outputs": [
    {
     "name": "stdout",
     "output_type": "stream",
     "text": [
      "Do you use a mac or a pc? mac\n",
      "You use a mac!\n"
     ]
    }
   ],
   "source": [
    "user_input = input('Do you use a mac or a pc? ')\n",
    "\n",
    "if 'p' not in user_input:\n",
    "    print('You use a mac!')\n",
    "\n",
    "if 'p' in user_input:\n",
    "    print('You use a pc!')"
   ]
  },
  {
   "cell_type": "code",
   "execution_count": 6,
   "metadata": {},
   "outputs": [
    {
     "name": "stdout",
     "output_type": "stream",
     "text": [
      "Do you play on PC, Xbox, or Playstation? xbox\n",
      "Yay Xbox!\n"
     ]
    }
   ],
   "source": [
    "user_console = input('Do you play on PC, Xbox, or Playstation? ')\n",
    "\n",
    "if 'p' not in user_console.lower():\n",
    "    print('Yay Xbox!')\n",
    "\n",
    "if 'y' in user_console.lower():\n",
    "    print('All about that Sony!')\n",
    "\n",
    "if 'c' in user_console.lower():\n",
    "    print('PC Supremecy!')\n"
   ]
  },
  {
   "cell_type": "markdown",
   "metadata": {},
   "source": [
    "## Using 'and'/'or' with If Statements"
   ]
  },
  {
   "cell_type": "code",
   "execution_count": null,
   "metadata": {},
   "outputs": [],
   "source": [
    "#see above\n",
    "\n",
    "if 'd' in 'dylan' and 's' in 'sean':\n",
    "    print('d and s')"
   ]
  },
  {
   "cell_type": "markdown",
   "metadata": {},
   "source": [
    "### Elif Statements"
   ]
  },
  {
   "cell_type": "code",
   "execution_count": null,
   "metadata": {},
   "outputs": [],
   "source": [
    "#elif and else are chained to an if\n",
    "#you can have multiple elif, but one else\n",
    "\n",
    "#if /elif/ else chain the first condition that returns true breaks the chain\n",
    "\n",
    "#elif sytax >> elif <condition>:\n",
    "    #action\n",
    "    \n",
    "#else (in any other case, do this. If this, otherwise this)\n",
    "#else:\n",
    "    #action"
   ]
  },
  {
   "cell_type": "code",
   "execution_count": null,
   "metadata": {},
   "outputs": [],
   "source": [
    "if 'd' in 'Dylan':\n",
    "    print('found d')\n",
    "elif 'D' in 'Dylan':\n",
    "    print('found D')\n",
    "else:\n",
    "    print('no d')"
   ]
  },
  {
   "cell_type": "code",
   "execution_count": null,
   "metadata": {},
   "outputs": [],
   "source": [
    "grade = 90\n",
    "if grade >= 90:\n",
    "    print('A')\n",
    "elif grade >= 80:\n",
    "    print('B')"
   ]
  },
  {
   "cell_type": "code",
   "execution_count": 27,
   "metadata": {},
   "outputs": [
    {
     "name": "stdout",
     "output_type": "stream",
     "text": [
      "What number are you thinking of? 0\n",
      "Your number is 0!\n"
     ]
    }
   ],
   "source": [
    "number = int(input('What number are you thinking of? '))\n",
    "\n",
    "if number > 0:\n",
    "    print('Your number is positive!')\n",
    "elif number < 0:\n",
    "    print('Your number is negative!')\n",
    "else:\n",
    "    print('Your number is 0!')\n",
    "    "
   ]
  },
  {
   "cell_type": "markdown",
   "metadata": {},
   "source": [
    "### Else Statements"
   ]
  },
  {
   "cell_type": "code",
   "execution_count": null,
   "metadata": {},
   "outputs": [],
   "source": [
    "# see above\n",
    "# see above\n",
    "#else run if all chainged conditions return false\n",
    "#any chained condition returns true, break from change and don't run else"
   ]
  },
  {
   "cell_type": "markdown",
   "metadata": {},
   "source": [
    "### For Loops"
   ]
  },
  {
   "cell_type": "code",
   "execution_count": null,
   "metadata": {},
   "outputs": [],
   "source": [
    "#for <loop variable> in <iterable>:\n",
    "    #<loop code block>  <--can be one or many lines.\n",
    "#<code after for loop>.  <--not going to get here until after the loop is complete.\n",
    "\n",
    "for letter in 'hello world':\n",
    "    print(letter)\n",
    "    print('end of loop code block with letter: ' + letter)\n",
    "print('finish loop')"
   ]
  },
  {
   "cell_type": "markdown",
   "metadata": {},
   "source": [
    "##### Using 'in' keyword"
   ]
  },
  {
   "cell_type": "code",
   "execution_count": null,
   "metadata": {},
   "outputs": [],
   "source": [
    "# see above\n",
    "# see above\n",
    "\n",
    "for num in range(10):\n",
    "    print(num)"
   ]
  },
  {
   "cell_type": "markdown",
   "metadata": {},
   "source": [
    "##### Continue Statement"
   ]
  },
  {
   "cell_type": "code",
   "execution_count": null,
   "metadata": {},
   "outputs": [],
   "source": [
    "# will continue to next iteration\n",
    "#continues to the next step in your loop"
   ]
  },
  {
   "cell_type": "code",
   "execution_count": null,
   "metadata": {},
   "outputs": [],
   "source": [
    "for num in range(10):\n",
    "    if num == 5:\n",
    "        continue\n",
    "    print(num) #because of this, once it will hit 5, it will return true and then continue on, meaning that 5 will\n",
    "    #not be shown.\n",
    "    \n",
    "    \n",
    "for num in range(10):\n",
    "    if num == 5:\n",
    "        print('5 before continue')\n",
    "        print('line 2 in action')\n",
    "        continue\n",
    "    print(num)"
   ]
  },
  {
   "cell_type": "markdown",
   "metadata": {},
   "source": [
    "##### Break Statement"
   ]
  },
  {
   "cell_type": "code",
   "execution_count": null,
   "metadata": {},
   "outputs": [],
   "source": [
    "# will break out of current loop\n",
    "#if you reach this statement, we are done with this loop are are out of here."
   ]
  },
  {
   "cell_type": "code",
   "execution_count": null,
   "metadata": {},
   "outputs": [],
   "source": [
    "for num in range(10):\n",
    "    if num == 5:\n",
    "        break #since we hit the break point, we will hop over the rest of the info (i.e., print statement that\n",
    "        #is on the same indentiation level) and pick things up after the for loop.\n",
    "        print('5 with break')\n",
    "    print(num)"
   ]
  },
  {
   "cell_type": "markdown",
   "metadata": {},
   "source": [
    "##### Pass Statement"
   ]
  },
  {
   "cell_type": "code",
   "execution_count": null,
   "metadata": {},
   "outputs": [],
   "source": [
    "# mostly used as a placeholder, and will continue on same iteration"
   ]
  },
  {
   "cell_type": "code",
   "execution_count": null,
   "metadata": {},
   "outputs": [],
   "source": [
    "for num in range(10):\n",
    "    if num == 5:\n",
    "        pass\n",
    "        print('5 with pass')\n",
    "    print(num)\n",
    "print('after for loop')"
   ]
  },
  {
   "cell_type": "markdown",
   "metadata": {},
   "source": [
    "##### Double For Loops"
   ]
  },
  {
   "cell_type": "code",
   "execution_count": null,
   "metadata": {},
   "outputs": [],
   "source": [
    "#aka nested loops\n",
    "\n",
    "for letter in 'dylan': #get to our first letter and then continue to our next loop (nested loop)\n",
    "    for num in range(5): #once we finish the rest of the code block (for2 + print statements), move to next letter\n",
    "        #or item in our overarching for statement.\n",
    "        print(f'{letter} {num}')\n",
    "    print('nested loop complete\\n')"
   ]
  },
  {
   "cell_type": "markdown",
   "metadata": {},
   "source": [
    "### While Loops"
   ]
  },
  {
   "cell_type": "code",
   "execution_count": null,
   "metadata": {},
   "outputs": [],
   "source": [
    "#While <boolean condition>\n",
    "    #<loop code block>"
   ]
  },
  {
   "cell_type": "markdown",
   "metadata": {},
   "source": [
    "##### Looping 'While True'"
   ]
  },
  {
   "cell_type": "code",
   "execution_count": null,
   "metadata": {},
   "outputs": [],
   "source": []
  },
  {
   "cell_type": "markdown",
   "metadata": {},
   "source": [
    "##### While & For Loops Used Together"
   ]
  },
  {
   "cell_type": "code",
   "execution_count": null,
   "metadata": {},
   "outputs": [],
   "source": []
  },
  {
   "cell_type": "markdown",
   "metadata": {},
   "source": [
    "### Built-In Functions"
   ]
  },
  {
   "cell_type": "markdown",
   "metadata": {},
   "source": [
    "##### range()"
   ]
  },
  {
   "cell_type": "code",
   "execution_count": null,
   "metadata": {},
   "outputs": [],
   "source": [
    "#range in non-inclusive (upto, but not including the upper limit). It starts at 0 by default, although this\n",
    "#can be overriden.\n",
    "range(10)\n",
    "\n",
    "list(range(10))\n",
    "\n",
    "list(range(1, 10))\n",
    "\n",
    "\n",
    "#range(start, stop, step)\n",
    "    #start and step are optional\n",
    "    #\n",
    "print(list(range(1, 10, 2)))"
   ]
  },
  {
   "cell_type": "markdown",
   "metadata": {},
   "source": [
    "##### len()"
   ]
  },
  {
   "cell_type": "code",
   "execution_count": null,
   "metadata": {},
   "outputs": [],
   "source": []
  },
  {
   "cell_type": "markdown",
   "metadata": {},
   "source": [
    "##### help()"
   ]
  },
  {
   "cell_type": "code",
   "execution_count": null,
   "metadata": {},
   "outputs": [],
   "source": []
  },
  {
   "cell_type": "markdown",
   "metadata": {},
   "source": [
    "##### isinstance()"
   ]
  },
  {
   "cell_type": "code",
   "execution_count": null,
   "metadata": {},
   "outputs": [],
   "source": []
  },
  {
   "cell_type": "markdown",
   "metadata": {},
   "source": [
    "##### abs()"
   ]
  },
  {
   "cell_type": "code",
   "execution_count": null,
   "metadata": {},
   "outputs": [],
   "source": []
  },
  {
   "cell_type": "markdown",
   "metadata": {},
   "source": [
    "### Try and Except"
   ]
  },
  {
   "cell_type": "code",
   "execution_count": null,
   "metadata": {},
   "outputs": [],
   "source": []
  },
  {
   "cell_type": "markdown",
   "metadata": {},
   "source": [
    "### Lists"
   ]
  },
  {
   "cell_type": "markdown",
   "metadata": {},
   "source": [
    "##### Declaring Lists"
   ]
  },
  {
   "cell_type": "code",
   "execution_count": null,
   "metadata": {},
   "outputs": [],
   "source": []
  },
  {
   "cell_type": "markdown",
   "metadata": {},
   "source": [
    "##### Indexing a List"
   ]
  },
  {
   "cell_type": "code",
   "execution_count": null,
   "metadata": {},
   "outputs": [],
   "source": []
  },
  {
   "cell_type": "markdown",
   "metadata": {},
   "source": [
    "##### .append()"
   ]
  },
  {
   "cell_type": "code",
   "execution_count": null,
   "metadata": {},
   "outputs": [],
   "source": []
  },
  {
   "cell_type": "markdown",
   "metadata": {},
   "source": [
    "##### .insert()"
   ]
  },
  {
   "cell_type": "code",
   "execution_count": null,
   "metadata": {},
   "outputs": [],
   "source": []
  },
  {
   "cell_type": "markdown",
   "metadata": {},
   "source": [
    "##### .pop()"
   ]
  },
  {
   "cell_type": "code",
   "execution_count": null,
   "metadata": {},
   "outputs": [],
   "source": []
  },
  {
   "cell_type": "markdown",
   "metadata": {},
   "source": [
    "\n",
    "##### .remove()"
   ]
  },
  {
   "cell_type": "code",
   "execution_count": null,
   "metadata": {},
   "outputs": [],
   "source": []
  },
  {
   "cell_type": "markdown",
   "metadata": {},
   "source": [
    "##### del()"
   ]
  },
  {
   "cell_type": "code",
   "execution_count": null,
   "metadata": {},
   "outputs": [],
   "source": []
  },
  {
   "cell_type": "markdown",
   "metadata": {},
   "source": [
    "##### Concatenating Two Lists"
   ]
  },
  {
   "cell_type": "code",
   "execution_count": null,
   "metadata": {},
   "outputs": [],
   "source": []
  },
  {
   "cell_type": "markdown",
   "metadata": {},
   "source": [
    "##### Lists Within Lists"
   ]
  },
  {
   "cell_type": "code",
   "execution_count": null,
   "metadata": {},
   "outputs": [],
   "source": []
  },
  {
   "cell_type": "markdown",
   "metadata": {},
   "source": [
    "##### Looping Through Lists"
   ]
  },
  {
   "cell_type": "code",
   "execution_count": null,
   "metadata": {},
   "outputs": [],
   "source": []
  },
  {
   "cell_type": "code",
   "execution_count": 37,
   "metadata": {},
   "outputs": [
    {
     "name": "stdout",
     "output_type": "stream",
     "text": [
      "2\n",
      "3\n",
      "5\n",
      "7\n",
      "11\n",
      "13\n",
      "17\n",
      "19\n",
      "23\n",
      "29\n",
      "31\n",
      "37\n",
      "41\n",
      "43\n",
      "47\n",
      "53\n",
      "59\n",
      "61\n",
      "67\n",
      "71\n",
      "73\n",
      "79\n",
      "83\n",
      "89\n",
      "97\n"
     ]
    }
   ],
   "source": [
    "for num in range(1, 100):\n",
    "   if num > 1:\n",
    "       for num2 in range(2, num):\n",
    "           if (num % num2) == 0:\n",
    "               break\n",
    "       else:\n",
    "           print(num)"
   ]
  },
  {
   "cell_type": "markdown",
   "metadata": {},
   "source": [
    "## Exercise #1 <br>\n",
    "<p>Cube Number Test... Print out all cubed numbers up to the total value 1000. Meaning that if the cubed number is over 1000 break the loop.</p>"
   ]
  },
  {
   "cell_type": "code",
   "execution_count": 18,
   "metadata": {},
   "outputs": [
    {
     "name": "stdout",
     "output_type": "stream",
     "text": [
      "0\n",
      "1\n",
      "2\n",
      "3\n",
      "4\n",
      "5\n",
      "6\n",
      "7\n",
      "8\n",
      "9\n",
      "These are the cubed numbers whose totals approach, but do not exceed, a total value of 1000.\n"
     ]
    }
   ],
   "source": [
    "for num in range (1000):\n",
    "    if num**3 < 1000:\n",
    "        print(num)\n",
    "    if num**3 > 1000:\n",
    "        break\n",
    "print('These are the cubed numbers whose totals approach, but do not exceed, a total value of 1000.')"
   ]
  },
  {
   "cell_type": "markdown",
   "metadata": {},
   "source": [
    "## Exercise #2 <br>\n",
    "<p>Get first prime numbers up to 100</p>"
   ]
  },
  {
   "cell_type": "code",
   "execution_count": 39,
   "metadata": {},
   "outputs": [
    {
     "name": "stdout",
     "output_type": "stream",
     "text": [
      "2\n",
      "3\n",
      "5\n",
      "7\n",
      "11\n",
      "13\n",
      "17\n",
      "19\n",
      "23\n",
      "29\n",
      "31\n",
      "37\n",
      "41\n",
      "43\n",
      "47\n",
      "53\n",
      "59\n",
      "61\n",
      "67\n",
      "71\n",
      "73\n",
      "79\n",
      "83\n",
      "89\n",
      "97\n"
     ]
    }
   ],
   "source": [
    "# HINT::\n",
    "# An else after an if runs if the if didn’t\n",
    "# An else after a for runs if the for didn’t break\n",
    "\n",
    "for num in range(1, 100):\n",
    "   if num > 1:\n",
    "       for num2 in range(2, num):\n",
    "           if num % num2 == 0:\n",
    "               break\n",
    "       else:\n",
    "           print(num)"
   ]
  },
  {
   "cell_type": "markdown",
   "metadata": {},
   "source": [
    "# Exercise 3 <br>\n",
    "<p>Take in a users input for their age, if they are younger than 18 print kids, if they're 18 to 65 print adults, else print seniors</p>"
   ]
  },
  {
   "cell_type": "code",
   "execution_count": 4,
   "metadata": {},
   "outputs": [
    {
     "name": "stdout",
     "output_type": "stream",
     "text": [
      "What is your age? 65\n",
      "You are a senior.\n"
     ]
    }
   ],
   "source": [
    "user_age = int(input('What is your age? '))\n",
    "\n",
    "if user_age < 18:\n",
    "        print('You are a kid.')\n",
    "elif user_age > 18 and user_age < 65:\n",
    "    print('You are an adult.')\n",
    "else:\n",
    "    print('You are a senior.')"
   ]
  }
 ],
 "metadata": {
  "kernelspec": {
   "display_name": "Python 3 (ipykernel)",
   "language": "python",
   "name": "python3"
  },
  "language_info": {
   "codemirror_mode": {
    "name": "ipython",
    "version": 3
   },
   "file_extension": ".py",
   "mimetype": "text/x-python",
   "name": "python",
   "nbconvert_exporter": "python",
   "pygments_lexer": "ipython3",
   "version": "3.10.9"
  }
 },
 "nbformat": 4,
 "nbformat_minor": 2
}
